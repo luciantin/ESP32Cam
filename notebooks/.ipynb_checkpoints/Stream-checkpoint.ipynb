{
 "cells": [
  {
   "cell_type": "code",
   "execution_count": 4,
   "metadata": {},
   "outputs": [],
   "source": [
    "import cv2\n",
    "\n",
    "#print(\"Before URL\")\n",
    "cap = cv2.VideoCapture('http://192.168.1.152/stream')\n",
    "#print(\"After URL\")\n",
    "\n",
    "while True:\n",
    "\n",
    "    #print('About to start the Read command')\n",
    "    ret, frame = cap.read()\n",
    "    #print('About to show frame of Video.')\n",
    "    cv2.imshow(\"Capturing\",frame)\n",
    "    #print('Running..')\n",
    "\n",
    "    if cv2.waitKey(1) & 0xFF == ord('q'):\n",
    "        break\n",
    "\n",
    "cap.release()\n",
    "cv2.destroyAllWindows()"
   ]
  },
  {
   "cell_type": "code",
   "execution_count": 3,
   "metadata": {},
   "outputs": [],
   "source": [
    "import urllib\n",
    "import cv2\n",
    "import numpy as np\n",
    "\n",
    "url = \"http://192.168.1.152/image\"\n",
    "\n",
    "url_response = urllib.request.urlopen(url)\n",
    "\n",
    "img_array = np.array(bytearray(url_response.read()), dtype=np.uint8)\n",
    "\n",
    "img = cv2.imdecode(img_array, -1)\n",
    "\n",
    "cv2.imshow('URL Image', img)\n",
    "cv2.waitKey(0)\n",
    "cv2.destroyAllWindows()"
   ]
  },
  {
   "cell_type": "code",
   "execution_count": null,
   "metadata": {},
   "outputs": [],
   "source": []
  }
 ],
 "metadata": {
  "kernelspec": {
   "display_name": "Python 3",
   "language": "python",
   "name": "python3"
  },
  "language_info": {
   "codemirror_mode": {
    "name": "ipython",
    "version": 3
   },
   "file_extension": ".py",
   "mimetype": "text/x-python",
   "name": "python",
   "nbconvert_exporter": "python",
   "pygments_lexer": "ipython3",
   "version": "3.8.3"
  }
 },
 "nbformat": 4,
 "nbformat_minor": 4
}
